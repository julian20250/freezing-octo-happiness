{
 "metadata": {
  "name": ""
 },
 "nbformat": 3,
 "nbformat_minor": 0,
 "worksheets": [
  {
   "cells": [
    {
     "cell_type": "code",
     "collapsed": false,
     "input": [
      "import sys\n",
      "k=[\"January\", \"February\", \"March\", \"April\", \"May\", \"June\", \"July\", \"August\", \"September\", \"October\", \"November\", \"December\"]\n",
      "h=[\"Monday\", \"Tuesday\", \"Wednesday\", \"Thursday\", \"Friday\", \"Saturday\", \"Sunday\"]\n",
      "\n",
      "mean=int(raw_input(\"From Normal Date to Julian Date type 0, from Julian Date to Normal Date write 1 > \"))\n",
      "#if mean!=0 or mean!=1:\n",
      "#    print mean, \"is not an option\"\n",
      "#    sys.exit()\n",
      "\n",
      "if mean==0:\n",
      "    y=int(raw_input(\"insert the year with all the digits > \"))\n",
      "    m=int(raw_input(\"insert month > \"))\n",
      "    if m>12:\n",
      "        print \"A year only has 12 months\"\n",
      "        sys.exit()\n",
      "    d=int(raw_input(\"insert day > \"))\n",
      "    J=367*y-((7*(y+(m+9)/12))/4)-((3*((y+(m-9)/7)/100+1))/4)+275*m/9+d+1721029\n",
      "    print \"The Julian Date for the noon of\", k[m-1], d,\",\", y, \"is \",J\n",
      "    print \"This Day is\", h[J%7]\n",
      "\n",
      "if mean==1:\n",
      "    Q=int(raw_input(\"Write your Julian Date Here > \"))\n",
      "    z=Q+68569\n",
      "    a=4*z/146097\n",
      "    s=z-((146097*a)+3)/4\n",
      "    u=(4000*(s+1))/1461001\n",
      "    r=s-(1461*u)/4+31\n",
      "    f=80*r/2447\n",
      "    d=r-(2447*f)/80\n",
      "    g=f/11\n",
      "    m=f+2-(12*g)\n",
      "    y=100*(a-49)+u+g\n",
      "    print \"The Corresponding Date for\", Q,\" is:\", k[m-1], d,\", \", y\n",
      "    print \"This Day is\", h[Q%7]\n"
     ],
     "language": "python",
     "metadata": {},
     "outputs": [
      {
       "name": "stdout",
       "output_type": "stream",
       "stream": "stdout",
       "text": [
        "From Normal Date to Julian Date type 0, from Julian Date to Normal Date write 1 > 0\n"
       ]
      },
      {
       "name": "stdout",
       "output_type": "stream",
       "stream": "stdout",
       "text": [
        "insert the year with all the digits > 1998\n"
       ]
      },
      {
       "name": "stdout",
       "output_type": "stream",
       "stream": "stdout",
       "text": [
        "insert month > 02\n"
       ]
      },
      {
       "name": "stdout",
       "output_type": "stream",
       "stream": "stdout",
       "text": [
        "insert day > 26\n"
       ]
      },
      {
       "output_type": "stream",
       "stream": "stdout",
       "text": [
        "The Julian Date for the noon of February 26 , 1998 is  2450871\n",
        "This Day is Thursday\n"
       ]
      }
     ],
     "prompt_number": 6
    },
    {
     "cell_type": "code",
     "collapsed": false,
     "input": [],
     "language": "python",
     "metadata": {},
     "outputs": []
    }
   ],
   "metadata": {}
  }
 ]
}