{
 "metadata": {
  "name": "",
  "signature": "sha256:6aaa409fcf9667e64edd3eea1d575bc1e78cc3ad6f74f33f923b14473e4f8df2"
 },
 "nbformat": 3,
 "nbformat_minor": 0,
 "worksheets": [
  {
   "cells": [
    {
     "cell_type": "heading",
     "level": 1,
     "metadata": {},
     "source": [
      "Ejercicios NumPy"
     ]
    },
    {
     "cell_type": "heading",
     "level": 5,
     "metadata": {},
     "source": [
      "1. Cree un arreglo de una dimensi\u00f3n, imprima la longitud (`length`) y la forma (`shape`)"
     ]
    },
    {
     "cell_type": "code",
     "collapsed": false,
     "input": [],
     "language": "python",
     "metadata": {},
     "outputs": []
    },
    {
     "cell_type": "heading",
     "level": 5,
     "metadata": {},
     "source": [
      "2. Cree un arreglo de dos dimensiones, imprima la longitud (`length`) y la forma (`shape`)"
     ]
    },
    {
     "cell_type": "code",
     "collapsed": false,
     "input": [],
     "language": "python",
     "metadata": {},
     "outputs": []
    },
    {
     "cell_type": "heading",
     "level": 5,
     "metadata": {},
     "source": [
      "3. Sume los arreglos anteriores, \u00bfqu\u00e9 sucede?"
     ]
    },
    {
     "cell_type": "code",
     "collapsed": false,
     "input": [],
     "language": "python",
     "metadata": {},
     "outputs": []
    },
    {
     "cell_type": "heading",
     "level": 5,
     "metadata": {},
     "source": [
      "4. Cree un arreglo de enteros 50 x 50. Elimine la primera fila y columna y la \u00faltima fila y columna. "
     ]
    },
    {
     "cell_type": "code",
     "collapsed": false,
     "input": [],
     "language": "python",
     "metadata": {},
     "outputs": []
    },
    {
     "cell_type": "heading",
     "level": 5,
     "metadata": {},
     "source": [
      "5.  Escrib un arreglo que le permita seleccionar los valores positivos del siguiente arreglo: \n",
      "\n",
      "    np.array([-1, 1, 5, -4])"
     ]
    },
    {
     "cell_type": "code",
     "collapsed": false,
     "input": [],
     "language": "python",
     "metadata": {},
     "outputs": []
    },
    {
     "cell_type": "heading",
     "level": 5,
     "metadata": {},
     "source": [
      "6. Cree arreglos utilizando `arange` y los comandos `zeros`, `ones`. "
     ]
    },
    {
     "cell_type": "code",
     "collapsed": false,
     "input": [],
     "language": "python",
     "metadata": {},
     "outputs": []
    },
    {
     "cell_type": "heading",
     "level": 5,
     "metadata": {},
     "source": [
      "7. Cree los siguientes arreglos:"
     ]
    },
    {
     "cell_type": "markdown",
     "metadata": {},
     "source": [
      "[[1, 1, 1, 1],\n",
      " [1, 1, 1, 1],\n",
      " [1, 1, 1, 2],\n",
      " [1, 6, 1, 1]]\n",
      "\n",
      "[[0., 0., 0., 0., 0.],\n",
      " [2., 0., 0., 0., 0.],\n",
      " [0., 3., 0., 0., 0.],\n",
      " [0., 0., 4., 0., 0.],\n",
      " [0., 0., 0., 5., 0.],\n",
      " [0., 0., 0., 0., 6.]]"
     ]
    },
    {
     "cell_type": "code",
     "collapsed": false,
     "input": [],
     "language": "python",
     "metadata": {},
     "outputs": []
    },
    {
     "cell_type": "heading",
     "level": 5,
     "metadata": {},
     "source": [
      "8. Use una m\u00e1scara que le permita seleccionar los elementos que est\u00e1n entre 5 y 9:"
     ]
    },
    {
     "cell_type": "markdown",
     "metadata": {},
     "source": [
      "np.array([1.1234498677659073, 5.150547235455569, 1.1915607017440888, 8.283179653420964, 5.1635384867953595, 8.06221365954315, 5.941607350505754, 9.426996923221827, 9.828300195624534, 8.061581259382875, 9.350471376998248, 2.5337332496612266, 3.8933693630535062, 7.854245437743151, 0.7965058455412621, 2.7207245408915623, 5.693244676240291, 1.3620057998648716, 8.880004623574631, 6.504379354779315])"
     ]
    },
    {
     "cell_type": "code",
     "collapsed": false,
     "input": [],
     "language": "python",
     "metadata": {},
     "outputs": []
    },
    {
     "cell_type": "heading",
     "level": 5,
     "metadata": {},
     "source": [
      "9. Escriba una funci\u00f3n que evalue una Gaussiana. La funci\u00f3n debe aceptar dos arreglos, uno para la variable `x` y otro para la variable `y`, un vector de las medias y una matriz de covarianza. El resultado de una funci\u00f3n debe ser un arreglo del mismo tama\u00f1o de `x` y `y`. Tenga en cuenta que:"
     ]
    },
    {
     "cell_type": "heading",
     "level": 6,
     "metadata": {},
     "source": [
      "\n",
      "$G({\\bf x} \\mid {\\bf \\mu},\\Sigma) = A \\exp\\big[ -\\frac{1}{2}\\left\\langle ({\\bf x - \\mu})^T, \\Sigma^{-1}({\\bf x - \\mu}) \\right\\rangle \\big]$\n",
      "\n",
      "Haga $A=1$."
     ]
    },
    {
     "cell_type": "markdown",
     "metadata": {},
     "source": [
      "El siguiente c\u00f3digo debe funcionar con su funci\u00f3n:\n",
      "\n",
      "x = np.arange(0.,10.,0.1)\n",
      "\n",
      "y = np.arange(0.,10.,0.1)\n",
      "\n",
      "x,y = np.meshgrid(x,y)\n",
      "\n",
      "mean_xy = np.array([5.,4.])\n",
      "\n",
      "cov = np.array([[1.,1.],[1.,2.]])**2.\n",
      "                    \n",
      "f = gaussian2D(x.ravel(), y.ravel(), mean_xy, cov)\n",
      "\n",
      "f.reshape(100,100)\n",
      "\n",
      "imshow(f.reshape(100,100))\n",
      "\n"
     ]
    },
    {
     "cell_type": "code",
     "collapsed": false,
     "input": [],
     "language": "python",
     "metadata": {},
     "outputs": []
    },
    {
     "cell_type": "markdown",
     "metadata": {},
     "source": [
      "Fuente: Ejercicios adaptados de <http://SciCoder.org>"
     ]
    }
   ],
   "metadata": {}
  }
 ]
}