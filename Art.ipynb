{
 "metadata": {
  "name": ""
 },
 "nbformat": 3,
 "nbformat_minor": 0,
 "worksheets": [
  {
   "cells": [
    {
     "cell_type": "code",
     "collapsed": false,
     "input": [
      "import matplotlib.pyplot as plt\n",
      "import matplotlib.image as mpimg\n",
      "from matplotlib.gridspec import GridSpec\n",
      "import numpy as np"
     ],
     "language": "python",
     "metadata": {},
     "outputs": [],
     "prompt_number": 57
    },
    {
     "cell_type": "code",
     "collapsed": false,
     "input": [
      "img = mpimg.imread(\"neo-seoul.jpg\")\n",
      "plt.figure(figsize=(20, 20))\n",
      "plt.suptitle(\"Interpolation\")\n",
      "interpolation = ['none', 'nearest', 'bilinear', 'bicubic',\n",
      "    'spline16', 'spline36', 'hanning', 'hamming', 'hermite', 'kaiser',\n",
      "    'quadric', 'catrom', 'gaussian', 'bessel', 'mitchell', 'sinc'] \n",
      "\n",
      "gs = GridSpec(4, 4)\n",
      "m = 0\n",
      "n = 0\n",
      "for x in interpolation:\n",
      "    plt.subplot(gs[n,m])\n",
      "    plt.axis(\"off\")\n",
      "    plt.title(x)\n",
      "    imshow(img, interpolation=x)\n",
      "    if m == 3:\n",
      "        m = 0\n",
      "        n += 1\n",
      "    else:\n",
      "        m += 1\n",
      "plt.show()"
     ],
     "language": "python",
     "metadata": {},
     "outputs": [],
     "prompt_number": 92
    },
    {
     "cell_type": "code",
     "collapsed": false,
     "input": [
      "img = mpimg.imread(\"neo-seoul.jpg\")\n",
      "plt.figure(figsize=(20, 20))\n",
      "plt.suptitle(\"Common Mathematical Operations\", size=20)\n",
      "gs = GridSpec(2, 2)\n",
      "rol = [img*2, img/2, img**2, img**.5]\n",
      "ral = [r\"$img * 2$\", r\"$img/_2$\", r\"$img^2$\", r\"$\\sqrt{img}$\"]\n",
      "m = 0\n",
      "n = 0\n",
      "o = 0\n",
      "for x in rol:\n",
      "    plt.subplot(gs[n,m])\n",
      "    plt.axis(\"off\")\n",
      "    plt.title(ral[o], size=18)\n",
      "    imshow(x)\n",
      "    if m == 1:\n",
      "        m = 0\n",
      "        n += 1\n",
      "    else:\n",
      "        m += 1\n",
      "    o +=1\n",
      "plt.show()"
     ],
     "language": "python",
     "metadata": {},
     "outputs": [],
     "prompt_number": 113
    },
    {
     "cell_type": "code",
     "collapsed": false,
     "input": [
      "plt.figure(figsize=(20, 20))\n",
      "plt.suptitle(\"Random\", size=18)\n",
      "gs = GridSpec(2, 2)\n",
      "w = 0\n",
      "e = 0\n",
      "r = 1\n",
      "for x in xrange(4):\n",
      "    n = []\n",
      "    for x in xrange(300*300):\n",
      "        m = []\n",
      "        for x in xrange(3):\n",
      "            m.append(np.random.randint(100))\n",
      "        n.append(m)\n",
      "    n = np.array(n)\n",
      "    n = np.reshape(n, (300, 300, 3))\n",
      "    plt.subplot(gs[w ,e])\n",
      "    plt.axis(\"off\")\n",
      "    plt.title(\"Random %i\"%r, size = 18)\n",
      "    imshow(n)\n",
      "    if w ==1:\n",
      "        w = 0\n",
      "        e +=1\n",
      "    else:\n",
      "        w +=1\n",
      "    r += 1\n",
      "plt.show()"
     ],
     "language": "python",
     "metadata": {},
     "outputs": [],
     "prompt_number": 123
    },
    {
     "cell_type": "code",
     "collapsed": false,
     "input": [],
     "language": "python",
     "metadata": {},
     "outputs": []
    }
   ],
   "metadata": {}
  }
 ]
}