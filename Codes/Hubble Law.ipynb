{
 "metadata": {
  "name": ""
 },
 "nbformat": 3,
 "nbformat_minor": 0,
 "worksheets": [
  {
   "cells": [
    {
     "cell_type": "heading",
     "level": 1,
     "metadata": {},
     "source": [
      "Hubble Law"
     ]
    },
    {
     "cell_type": "markdown",
     "metadata": {},
     "source": [
      "$$\\textbf{Remember...}$$\n",
      "\n",
      "- The ecuations of escape velocity and redshift\n",
      "\n",
      "$$z = \\frac{\\Delta\\lambda}{\\lambda_0} = \\frac{\\lambda}{\\lambda_0}-1$$\n",
      "$$z = \\frac{-\\Delta f}{f} = \\frac{f_0}{f}-1$$\n",
      "$$v = zc = Hd$$\n",
      "\n",
      "When z is too big:\n",
      "\n",
      "$$v = c\\frac{(1+z)^2-1}{(1+z)^2+1}$$\n",
      "\n",
      "Where $z$ is redshift, $\\lambda$ is observed wavelenght, $\\lambda_0$ is emitted wavelenght, $f$ is observed frequency, $f_0$ is emitted frequency, $\\Delta\\lambda$ and $\\Delta f$ are variatons of wavelenght and frequency respectively, $v$ is the escape velocity, $c$ is the speed of light, $H$ is Hubble's Constant and $d$ is distance to the astro in Megaparsecs (Mpc).\n",
      "\n",
      "- The best line\n",
      "\n",
      "$$a = \\frac{n\\left(\\sum\\limits^{n}_{i=1}x_iy_i\\right)-\\left(\\sum\\limits^{n}_{i=1}x_i\\right)\\left(\\sum\\limits^{n}_{i=1}y_i\\right)}{n\\left(\\sum\\limits^{n}_{i=1}x_i^2\\right)-\\left(\\sum\\limits^{n}_{i=1}x_i\\right)^2}$$\n",
      "\n",
      "$$b = \\frac{\\sum\\limits^{n}_{i=1}y_i-a\\left(\\sum\\limits^{n}_{i=1}x_i\\right)}{n}$$\n",
      "\n",
      "$$f(x) = ax + b$$\n",
      "\n",
      "\n",
      "$$\\textbf{Help Pages:}$$\n",
      "- http://matplotlib.org/users/mathtext.html\n",
      "- http://oneau.wordpress.com/2011/12/25/latex-sympy/\n",
      "- http://stackoverflow.com/questions/13208286/how-to-write-latex-in-ipython-notebook\n",
      "- http://web.ift.uib.no/Teori/KURS/WRK/TeX/sym1.html\n",
      "- http://en.wikibooks.org/wiki/LaTeX/Mathematics"
     ]
    },
    {
     "cell_type": "code",
     "collapsed": false,
     "input": [
      "import matplotlib.pyplot as plt\n",
      "from numpy import array, arange\n",
      "import sys\n",
      "from getpass import getuser\n",
      "\n",
      "font1 = {'family' : 'serif',\n",
      "        'color'  : 'black', \n",
      "        'weight' : 'normal',\n",
      "        'size'   : 'medium',\n",
      "        }\n",
      "font2 = {'family' : 'fantasy',\n",
      "        'color'  : 'black', \n",
      "        'weight' : 'normal',\n",
      "        'size'   : 'medium',\n",
      "        }\n",
      "w, q=[\"Distance(Mpc)\", \"Redshift(z)\", \"Escape Velocity(km/s)\"], [\"st\", \"nd\", \"rd\", \"th\"]\n",
      "j={}\n",
      "\n",
      "\n",
      "print(\"This program works in two ways, you can insert the data directly to the program or you can introduce the name of \"\n",
      "    \"a .txt file with this data (You can see which characteristics must have the .txt file to be read properly).\" \n",
      "    \"\\nIn this program you can type two values, but you can select which pair of values you want.\"\n",
      "    \"You can select 2 pairs:\\n\" \"-%s and %s\\n\" \"-%s and %s\\n\"\n",
      "    %(w[0], w[1], w[0], w[2])\n",
      "    )\n",
      "joke=raw_input(\"Is your universe the same of my universe? (y/n) >\")\n",
      "o=int(raw_input(\"To select the first pair type 1, To select the second pair type 2 >\"))\n",
      "if o!=1 and o!=2:\n",
      "    print \"%i is not an option\" %o\n",
      "    sys.exit()\n",
      "if joke==\"y\":\n",
      "    c=3*10**8 #Speed of light\n",
      "elif joke==\"n\":\n",
      "    c=float(raw_input(\"Insert the Value of your light speed constant >\"))\n",
      "else:\n",
      "    print \"%s is not an option\"%joke\n",
      "    sys.exit()\n",
      "fly=str(raw_input(\"Do You have a .txt with the data? (y/n) >\"))\n",
      "if fly!='y' and fly!='n':\n",
      "    print \"%s is not an option\"%fly\n",
      "    sys.exit()\n",
      "if fly==\"y\":\n",
      "    print (\"\\n\\nThe .txt file must have the data of the galaxies (a pair per galaxy) separated by one space each data \"\n",
      "           \"starting with %s, next must be the %s and so on. \"\n",
      "           \"Also, the data can be in the .txt file in two columns, the data of a galaxy must be in a row and the \"\n",
      "           \"%s parameter always goes in the first column, the %s parameter must be in the second \"\n",
      "           \"column.\\n\\n\"\n",
      "           %(w[0] , w[o], w[0], w[o])\n",
      "           )\n",
      "    \n",
      "    pres=raw_input(\"Insert your .txt file with its path i.e. /home/\"+ getuser() +\"/Desktop/example.txt\"\n",
      "                   \"\\n>\")\n",
      "    with open(pres, \"r\") as field:\n",
      "        dat=field.readlines()\n",
      "        for line in field:\n",
      "            dat=line.split( )\n",
      "    dat=[float(x) for x in sum([x.split() for x in dat], [])]    \n",
      "    if len(dat)%2==1:\n",
      "        print (\"You need to see your .txt file because I don't have the partner of a data. I need pairs of data because \"\n",
      "               \"I can't work with incomplete data\"\n",
      "               )\n",
      "        sys.exit()\n",
      "    \n",
      "    count=0\n",
      "    count_x=0\n",
      "    for x in dat:\n",
      "        if count_x%2==0:\n",
      "            j[\"Galaxy_\"+str(count+1)+\"'s \"+w[0]]=x\n",
      "        elif count_x%2==1:\n",
      "            j[\"Galaxy_\"+str(count+1)+\"'s \"+w[o]]=x\n",
      "            count+=1\n",
      "        else:\n",
      "            print \"I have a bug, fix me!\"\n",
      "            sys.exit()\n",
      "        count_x+=1\n",
      "if fly==\"n\":\n",
      "    b=int(raw_input(\"How many galaxies >\"))\n",
      "\n",
      "    for x in xrange(b):\n",
      "        x=x+1\n",
      "        i=x/10**(len(str(x))-1)\n",
      "        if i==1:\n",
      "            i=0\n",
      "        elif i==2:\n",
      "            i=1\n",
      "        elif i==3:\n",
      "            i=2\n",
      "        else:\n",
      "            i=3\n",
      "\n",
      "        j[\"Galaxy_\"+str(x)+\"'s \"+w[0]]=(float(raw_input(\"\\nType the %s of the %s%s Galaxy >\"%(w[0], str(x), q[i]))))\n",
      "        j[\"Galaxy_\"+str(x)+\"'s \"+w[o]]=(float(raw_input(\"Type the value of the %s of the %s%s Galaxy >\"%(w[o], str(x), q[i]))))\n",
      "\n",
      "\n",
      "sumx=j[\"Galaxy_\"+str(1)+\"'s \"+w[0]]\n",
      "sumy=j[\"Galaxy_\"+str(1)+\"'s \"+w[o]]\n",
      "sumxy=j[\"Galaxy_\"+str(1)+\"'s \"+w[0]]*j[\"Galaxy_\"+str(1)+\"'s \"+w[o]]\n",
      "sumx__2=j[\"Galaxy_\"+str(1)+\"'s \"+w[0]]**2\n",
      "eas=len(j)/2\n",
      "for x in xrange(eas-1):\n",
      "    x=x+2\n",
      "    sumx=sumx+j[\"Galaxy_\"+str(x)+\"'s \"+w[0]]\n",
      "    sumy=sumy+j[\"Galaxy_\"+str(x)+\"'s \"+w[o]]\n",
      "    sumxy=sumxy+j[\"Galaxy_\"+str(x)+\"'s \"+w[0]]*j[\"Galaxy_\"+str(x)+\"'s \"+w[o]]\n",
      "    sumx__2=sumx__2+j[\"Galaxy_\"+str(x)+\"'s \"+w[0]]**2\n",
      "\n",
      "\n",
      "a=((eas*sumxy)-(sumx*sumy))/((eas*sumx__2)-(sumx**2))\n",
      "b=((sumy)-(eas*sumx))/eas\n",
      "X, Y1, Y2=[], [], []\n",
      "\n",
      "for x in xrange(1, eas+1):\n",
      "    X.append(j[\"Galaxy_\"+str(x)+\"'s \"+w[0]])\n",
      "    Y1.append(j[\"Galaxy_\"+str(x)+\"'s \"+w[o]])\n",
      "    Y2.append(a*j[\"Galaxy_\"+str(x)+\"'s \"+w[0]])\n",
      "X, Y1, Y2, A= array(X), array(Y1), array(Y2), q*eas\n",
      "DEV=arange(eas)\n",
      "\n",
      "class hubble:\n",
      "    def redshift(self, I, D, W, U, A):\n",
      "        plt.plot(I, D, \"g*\")\n",
      "        plt.plot(I, W, \"r-\")\n",
      "        plt.text(I[0], W[-1], \"Your Hubble's Constant is: \"+str(a)+r\" $\\frac{km s^{-1}}{Mpc}$\", fontdict=font1, size=18)\n",
      "        plt.grid(True)\n",
      "        for x in U:\n",
      "            plt.text(I[x], D[x], str(x+1)+A[x]+\" Galaxy\", fontdict=font1)\n",
      "        ax.set_title(\"Relation Between %s and %s\"%(w[0], w[1]), fontdict=font1)\n",
      "        plt.xlabel(w[0], fontdict=font1)\n",
      "        plt.ylabel(w[1], fontdict=font1)\n",
      "        plt.show()\n",
      "        \n",
      "    def es_velocity(self, I, D, W, U, A):\n",
      "        plt.plot(I, D, \"b*\")\n",
      "        plt.plot(I, W, \"r-\")\n",
      "        plt.text(I[0], W[-1], \"Your Hubble's Constant is: \"+str(a)+r\" $\\frac{km s^{-1}}{Mpc}$\", fontdict=font1, size=18)\n",
      "        plt.grid(True)\n",
      "        for x in U:\n",
      "            plt.text(I[x], D[x], str(x+1)+A[x]+\" Galaxy\", fontdict=font2)\n",
      "        ax.set_title(\"Relation Between %s and %s\"%(w[0], w[2]), fontdict=font2)\n",
      "        plt.xlabel(w[0], fontdict=font2)\n",
      "        plt.ylabel(w[2], fontdict=font2)\n",
      "        plt.show()\n",
      "hubble=hubble()        \n",
      "fig= plt.figure()\n",
      "ax= fig.add_subplot(111)\n",
      "if o==1:\n",
      "    hubble.redshift(X, Y1, Y2, DEV, A)\n",
      "    Y1=X*a\n",
      "    fig= plt.figure()\n",
      "    ax= fig.add_subplot(111)\n",
      "    hubble.es_velocity(X, Y1, Y2, DEV, A)\n",
      "if o==2:\n",
      "    hubble.es_velocity(X, Y1, Y2, DEV, A)"
     ],
     "language": "python",
     "metadata": {},
     "outputs": [
      {
       "output_type": "stream",
       "stream": "stdout",
       "text": [
        "This program works in two ways, you can insert the data directly to the program or you can introduce the name of a .txt file with this data (You can see which characteristics must have the .txt file to be read properly).\n",
        "In this program you can type two values, but you can select which pair of values you want.You can select 2 pairs:\n",
        "-Distance(Mpc) and Redshift(z)\n",
        "-Distance(Mpc) and Escape Velocity(km/s)\n",
        "\n"
       ]
      },
      {
       "name": "stdout",
       "output_type": "stream",
       "stream": "stdout",
       "text": [
        "Is your universe the same of my universe? (y/n) >y\n"
       ]
      },
      {
       "name": "stdout",
       "output_type": "stream",
       "stream": "stdout",
       "text": [
        "To select the first pair type 1, To select the second pair type 2 >1\n"
       ]
      },
      {
       "name": "stdout",
       "output_type": "stream",
       "stream": "stdout",
       "text": [
        "Do You have a .txt with the data? (y/n) >n\n"
       ]
      },
      {
       "name": "stdout",
       "output_type": "stream",
       "stream": "stdout",
       "text": [
        "How many galaxies >2\n"
       ]
      },
      {
       "name": "stdout",
       "output_type": "stream",
       "stream": "stdout",
       "text": [
        "\n",
        "Type the Distance(Mpc) of the 1st Galaxy >3\n"
       ]
      },
      {
       "name": "stdout",
       "output_type": "stream",
       "stream": "stdout",
       "text": [
        "Type the value of the Redshift(z) of the 1st Galaxy >5\n"
       ]
      },
      {
       "name": "stdout",
       "output_type": "stream",
       "stream": "stdout",
       "text": [
        "\n",
        "Type the Distance(Mpc) of the 2nd Galaxy >2\n"
       ]
      },
      {
       "name": "stdout",
       "output_type": "stream",
       "stream": "stdout",
       "text": [
        "Type the value of the Redshift(z) of the 2nd Galaxy >6\n"
       ]
      },
      {
       "output_type": "stream",
       "stream": "stderr",
       "text": [
        "/usr/lib/pymodules/python2.7/matplotlib/font_manager.py:1236: UserWarning: findfont: Font family ['fantasy'] not found. Falling back to Bitstream Vera Sans\n",
        "  (prop.get_family(), self.defaultFamily[fontext]))\n",
        "/usr/lib/pymodules/python2.7/matplotlib/font_manager.py:1246: UserWarning: findfont: Could not match :family=Bitstream Vera Sans:style=normal:variant=normal:weight=normal:stretch=normal:size=medium. Returning /usr/share/matplotlib/mpl-data/fonts/ttf/cmb10.ttf\n",
        "  UserWarning)\n"
       ]
      }
     ],
     "prompt_number": 1
    },
    {
     "cell_type": "code",
     "collapsed": false,
     "input": [],
     "language": "python",
     "metadata": {},
     "outputs": []
    }
   ],
   "metadata": {}
  }
 ]
}