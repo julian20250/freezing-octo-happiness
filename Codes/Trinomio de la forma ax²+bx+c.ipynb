{
 "metadata": {
  "name": ""
 },
 "nbformat": 3,
 "nbformat_minor": 0,
 "worksheets": [
  {
   "cells": [
    {
     "cell_type": "code",
     "collapsed": false,
     "input": [
      "import numpy as np #Importamos una herramienta que usaremos abajo\n",
      "print \"Hola, este comando sirve para factorizar trinomios de la forma ax\u00b2+bx+c.\"\n",
      "\n",
      "a=int(raw_input(\"Inserta a\"))\n",
      "b=int(raw_input(\"Inserta b\")) #Los raw_imput de siempre\n",
      "c=int(raw_input(\"Inserta c\"))\n",
      "y=[] #Creamos una lista\n",
      "p=2\n",
      "if a>=2: #Si a es mayor o igual que 2\n",
      "    c=c*a #Debemos multiplicar c por a para lograr su factorizacion\n",
      "for p in range(2, c+1):\n",
      "    for i in range(2, p): #El comando de Alejandro para los numeros primos\n",
      "        if p % i == 0:\n",
      "            break\n",
      "    else:\n",
      "        y.append(p) #Agrupamos en la lista antes creada los numeros primos de c\n",
      "w=len(y) #w vale el largo de la lista y de antes\n",
      "bam=[]  #Una nueva lista              \n",
      "while (c>1):   #Esto para repetir hasta que c>1 el siguiente bloque            \n",
      "    t=[] #Mas listas\n",
      "    for i in range(0,w): #un for que va desde 0 hasta w\n",
      "        t.append(c) #para hacer una lista que tenga w numeros de c\n",
      "    y=np.array(y) \n",
      "    t=np.array(t) #Usamos numpy.array para hacer mas faciles las operaciones entre listas\n",
      "    h=1.0*t/y #Aqui realizamos aquella operacion\n",
      "    m=range(1, c) #Creamos una lista desde 1 hasta c\n",
      "    m=[x*1. for x in m] #Volvemos cada uno de los integrantes de m en decimales\n",
      "    j=set(h) & set(m) #Comparamos h y m\n",
      "    j=[int(x) for x in j] #Volvemos enteros a los integrantes de j\n",
      "    u=[c/x for x in j] #Una nueva lista donde los integrantes sean la razon entre c y los integrantes de j \n",
      "    c = c / u[-1] #Para seguir el curso del while y sacar los factores primos, c debe ser dividido por el ultimo integrante de u\n",
      "    bam.append(u[-1]) #Agregamos a bam el ultimo integrante de u y volvemos a empezar\n",
      " \n",
      "    \n",
      "    \n"
     ],
     "language": "python",
     "metadata": {},
     "outputs": [
      {
       "ename": "IndentationError",
       "evalue": "unexpected indent (<ipython-input-59-5f685023775b>, line 20)",
       "output_type": "pyerr",
       "traceback": [
        "\u001b[1;36m  File \u001b[1;32m\"<ipython-input-59-5f685023775b>\"\u001b[1;36m, line \u001b[1;32m20\u001b[0m\n\u001b[1;33m    t=[] #Mas listas\u001b[0m\n\u001b[1;37m    ^\u001b[0m\n\u001b[1;31mIndentationError\u001b[0m\u001b[1;31m:\u001b[0m unexpected indent\n"
       ]
      }
     ],
     "prompt_number": 59
    },
    {
     "cell_type": "code",
     "collapsed": false,
     "input": [],
     "language": "python",
     "metadata": {},
     "outputs": []
    }
   ],
   "metadata": {}
  }
 ]
}