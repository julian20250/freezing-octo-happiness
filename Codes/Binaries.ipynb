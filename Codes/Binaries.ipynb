{
 "metadata": {
  "name": ""
 },
 "nbformat": 3,
 "nbformat_minor": 0,
 "worksheets": [
  {
   "cells": [
    {
     "cell_type": "code",
     "collapsed": false,
     "input": [
      "from decimal import *\n",
      "print \"If You Find any Bug, Please Tell me What is\"\n",
      "n=Decimal(raw_input(\"Insert your number > \"))\n",
      "m=int(raw_input(\"To make an integer a binarie write 0, to make a binary an integer write 1 > \"))\n",
      "\n",
      "j=[]\n",
      "a=[]\n",
      "i=[]\n",
      "r=[]\n",
      "p=[]\n",
      "keep=n\n",
      "n=int(Decimal(n))\n",
      "if m==0:\n",
      "    while n>0:\n",
      "        t=n%2\n",
      "        j.append(t)\n",
      "        n=n/2\n",
      "    for x in range(len(j)):\n",
      "        i.append(j[x]*(10**x))\n",
      "    mov=keep%1\n",
      "    if mov !=0:\n",
      "        bow=(len(str(mov)))-2\n",
      "        mov=int(mov*10**bow)\n",
      "        mov=mov*(10**(-len(str(mov))))\n",
      "        while mov!=1.0:\n",
      "            mov=mov-int(mov)\n",
      "            mov=mov*2\n",
      "            if mov>=1.0:\n",
      "                r.append(1)\n",
      "            if mov<1.0:\n",
      "                r.append(0)\n",
      "        r=[str(x) for x in r]\n",
      "        print keep, \"is\", str(sum(i))+\".\"+\"\".join(r), \"in Binaries\"\n",
      "    else:\n",
      "        print keep, \"is\", str(sum(i)), \"in Binaries\"\n",
      "        \n",
      "if m==1:\n",
      "    for x in range(len(str(n))):\n",
      "        k=n/(10**x)\n",
      "        a.append(k)\n",
      "    \n",
      "    a.reverse()\n",
      "    for x in range(len(a)):\n",
      "        a[x]=(a[x]/10.0)\n",
      "    a=[int(((x-int(x))+0.01)*10) for x in a]\n",
      "    a.reverse()\n",
      "    count=0\n",
      "    for x in range(len(a)):\n",
      "        p.append(a[x]*(2**count))\n",
      "        count=count+1\n",
      "    lost=[]\n",
      "    healer=[]\n",
      "    mov=keep%1\n",
      "    if mov!=0:\n",
      "        for x in str(mov):\n",
      "            lost.append(x)\n",
      "        for x in xrange(2):\n",
      "            lost.pop(0)\n",
      "        pure=\"\".join(lost)\n",
      "        for x in range(len(pure)):\n",
      "            healer.append(int(pure[x])*(2**(-(x+1))))\n",
      "    print keep, \"is\", sum(p)+sum(healer), \"in Decimals\"    "
     ],
     "language": "python",
     "metadata": {},
     "outputs": [
      {
       "output_type": "stream",
       "stream": "stdout",
       "text": [
        "If You Find any Bug, Please Tell me What is\n"
       ]
      },
      {
       "name": "stdout",
       "output_type": "stream",
       "stream": "stdout",
       "text": [
        "Insert your number > 1010101101010110.0101010110\n"
       ]
      },
      {
       "name": "stdout",
       "output_type": "stream",
       "stream": "stdout",
       "text": [
        "To make an integer a binarie write 0, to make a binary an integer write 1 > 1\n"
       ]
      },
      {
       "output_type": "stream",
       "stream": "stdout",
       "text": [
        "1010101101010110.0101010110 is 43862.3339844 in Decimals\n"
       ]
      }
     ],
     "prompt_number": 2
    },
    {
     "cell_type": "code",
     "collapsed": false,
     "input": [
      "\n"
     ],
     "language": "python",
     "metadata": {},
     "outputs": []
    }
   ],
   "metadata": {}
  }
 ]
}