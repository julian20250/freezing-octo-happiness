{
 "metadata": {
  "name": "",
  "signature": "sha256:33013529afa63287954273c93f861f6531fd0bad1b7fa756de2e9e01ec8dca70"
 },
 "nbformat": 3,
 "nbformat_minor": 0,
 "worksheets": [
  {
   "cells": [
    {
     "cell_type": "heading",
     "level": 1,
     "metadata": {},
     "source": [
      "Introducci\u00f3n"
     ]
    },
    {
     "cell_type": "heading",
     "level": 3,
     "metadata": {},
     "source": [
      "En los ejercicios que se formula una pregunta abierta, la soluci\u00f3n la debe proporcionar al final de la operaci\u00f3n formulada como un comentario."
     ]
    },
    {
     "cell_type": "heading",
     "level": 5,
     "metadata": {},
     "source": [
      "1. Use la funci\u00f3n `help()` para concer qu\u00e9 modulos contienen la palabra 'zeta' en el resumen de la ayuda:"
     ]
    },
    {
     "cell_type": "code",
     "collapsed": false,
     "input": [
      "help()"
     ],
     "language": "python",
     "metadata": {},
     "outputs": [
      {
       "output_type": "stream",
       "stream": "stdout",
       "text": [
        "\n",
        "Welcome to Python 2.7!  This is the online help utility.\n",
        "\n",
        "If this is your first time using Python, you should definitely check out\n",
        "the tutorial on the Internet at http://docs.python.org/2.7/tutorial/.\n",
        "\n",
        "Enter the name of any module, keyword, or topic to get help on writing\n",
        "Python programs and using Python modules.  To quit this help utility and\n",
        "return to the interpreter, just type \"quit\".\n",
        "\n",
        "To get a list of available modules, keywords, or topics, type \"modules\",\n",
        "\"keywords\", or \"topics\".  Each module also comes with a one-line summary\n",
        "of what it does; to list the modules whose summaries contain a given word\n",
        "such as \"spam\", type \"modules spam\".\n",
        "\n"
       ]
      },
      {
       "name": "stdout",
       "output_type": "stream",
       "stream": "stdout",
       "text": [
        "help> zeta\n"
       ]
      },
      {
       "output_type": "stream",
       "stream": "stdout",
       "text": [
        "no Python documentation found for 'zeta'\n",
        "\n"
       ]
      },
      {
       "output_type": "stream",
       "stream": "stdout",
       "text": [
        "\n",
        "You are now leaving help and returning to the Python interpreter.\n",
        "If you want to ask for help on a particular object directly from the\n",
        "interpreter, you can type \"help(object)\".  Executing \"help('string')\"\n",
        "has the same effect as typing a particular string at the help> prompt.\n"
       ]
      }
     ],
     "prompt_number": 1
    },
    {
     "cell_type": "heading",
     "level": 5,
     "metadata": {},
     "source": [
      "2. Utilice Python como calculadora: "
     ]
    },
    {
     "cell_type": "heading",
     "level": 6,
     "metadata": {},
     "source": [
      "2.1 El tiempo de c\u00e1lculo total con el m\u00e9todo de Newton convergi\u00f3 en 26.7 segundos, \u00bfcu\u00e1nto tiempo es en a\u00f1os?"
     ]
    },
    {
     "cell_type": "code",
     "collapsed": false,
     "input": [
      "26.7/60/60/24/365.25"
     ],
     "language": "python",
     "metadata": {},
     "outputs": [
      {
       "metadata": {},
       "output_type": "pyout",
       "prompt_number": 2,
       "text": [
        "8.460719446345731e-07"
       ]
      },
      {
       "metadata": {},
       "output_type": "pyout",
       "prompt_number": 3,
       "text": [
        "8.460719446345731e-07"
       ]
      }
     ],
     "prompt_number": 3
    },
    {
     "cell_type": "heading",
     "level": 6,
     "metadata": {},
     "source": [
      "2.2 Calcule el n\u00famero \u00e1ureo $\\phi=\\frac{1+\\sqrt{5}}{2}$, considere $\\sqrt{5}\\approx2.23$:"
     ]
    },
    {
     "cell_type": "code",
     "collapsed": false,
     "input": [
      "(1+(5**0.5))/2"
     ],
     "language": "python",
     "metadata": {},
     "outputs": [
      {
       "metadata": {},
       "output_type": "pyout",
       "prompt_number": 4,
       "text": [
        "1.618033988749895"
       ]
      }
     ],
     "prompt_number": 4
    },
    {
     "cell_type": "heading",
     "level": 5,
     "metadata": {},
     "source": [
      "3. Defina dos variables, `base` y `altura`, con alg\u00fan valor. C\u00e1lcule e imprima el \u00e1rea del tri\u00e1ngulo:"
     ]
    },
    {
     "cell_type": "code",
     "collapsed": false,
     "input": [
      "a=13\n",
      "b=4\n",
      "area=a*b/2"
     ],
     "language": "python",
     "metadata": {},
     "outputs": [],
     "prompt_number": 5
    },
    {
     "cell_type": "heading",
     "level": 5,
     "metadata": {},
     "source": [
      "4. Redefina la variable `altura` como string y realice nuevamente el c\u00e1lculo del \u00e1rea. \u00bfQu\u00e9 sucede? \u00bfPor qu\u00e9?\n",
      "R: No se realiza la divisi\u00f3n porque no se puede dividir una string por un n\u00famero."
     ]
    },
    {
     "cell_type": "code",
     "collapsed": false,
     "input": [
      "b=\"4\"\n",
      "area=a*b/2"
     ],
     "language": "python",
     "metadata": {},
     "outputs": [
      {
       "ename": "TypeError",
       "evalue": "unsupported operand type(s) for /: 'str' and 'int'",
       "output_type": "pyerr",
       "traceback": [
        "\u001b[0;31m---------------------------------------------------------------------------\u001b[0m\n\u001b[0;31mTypeError\u001b[0m                                 Traceback (most recent call last)",
        "\u001b[0;32m<ipython-input-6-bad34efe8b2e>\u001b[0m in \u001b[0;36m<module>\u001b[0;34m()\u001b[0m\n\u001b[1;32m      1\u001b[0m \u001b[0mb\u001b[0m\u001b[0;34m=\u001b[0m\u001b[0;34m\"4\"\u001b[0m\u001b[0;34m\u001b[0m\u001b[0m\n\u001b[0;32m----> 2\u001b[0;31m \u001b[0marea\u001b[0m\u001b[0;34m=\u001b[0m\u001b[0ma\u001b[0m\u001b[0;34m*\u001b[0m\u001b[0mb\u001b[0m\u001b[0;34m/\u001b[0m\u001b[0;36m2\u001b[0m\u001b[0;34m\u001b[0m\u001b[0m\n\u001b[0m",
        "\u001b[0;31mTypeError\u001b[0m: unsupported operand type(s) for /: 'str' and 'int'"
       ]
      }
     ]
    },
    {
     "cell_type": "heading",
     "level": 5,
     "metadata": {},
     "source": [
      "5. Defina una lista y una tupla con cuatro n\u00fameros en las entradas. Actualice la segunda entrada de ambas con la palabra 'Konrad'. \u00bfQu\u00e9 sucede? R: Los tuples son inmutables"
     ]
    },
    {
     "cell_type": "code",
     "collapsed": false,
     "input": [
      "a=[1,2,3,4]\n",
      "b=(1,2,3,4)\n",
      "a.insert(1, \"Konrad\")\n",
      "b.insert(1, \"Konrad\")"
     ],
     "language": "python",
     "metadata": {},
     "outputs": [
      {
       "ename": "AttributeError",
       "evalue": "'tuple' object has no attribute 'insert'",
       "output_type": "pyerr",
       "traceback": [
        "\u001b[0;31m---------------------------------------------------------------------------\u001b[0m\n\u001b[0;31mAttributeError\u001b[0m                            Traceback (most recent call last)",
        "\u001b[0;32m<ipython-input-7-005c21060a1e>\u001b[0m in \u001b[0;36m<module>\u001b[0;34m()\u001b[0m\n\u001b[1;32m      2\u001b[0m \u001b[0mb\u001b[0m\u001b[0;34m=\u001b[0m\u001b[0;34m(\u001b[0m\u001b[0;36m1\u001b[0m\u001b[0;34m,\u001b[0m\u001b[0;36m2\u001b[0m\u001b[0;34m,\u001b[0m\u001b[0;36m3\u001b[0m\u001b[0;34m,\u001b[0m\u001b[0;36m4\u001b[0m\u001b[0;34m)\u001b[0m\u001b[0;34m\u001b[0m\u001b[0m\n\u001b[1;32m      3\u001b[0m \u001b[0ma\u001b[0m\u001b[0;34m.\u001b[0m\u001b[0minsert\u001b[0m\u001b[0;34m(\u001b[0m\u001b[0;36m1\u001b[0m\u001b[0;34m,\u001b[0m \u001b[0;34m\"Konrad\"\u001b[0m\u001b[0;34m)\u001b[0m\u001b[0;34m\u001b[0m\u001b[0m\n\u001b[0;32m----> 4\u001b[0;31m \u001b[0mb\u001b[0m\u001b[0;34m.\u001b[0m\u001b[0minsert\u001b[0m\u001b[0;34m(\u001b[0m\u001b[0;36m1\u001b[0m\u001b[0;34m,\u001b[0m \u001b[0;34m\"Konrad\"\u001b[0m\u001b[0;34m)\u001b[0m\u001b[0;34m\u001b[0m\u001b[0m\n\u001b[0m",
        "\u001b[0;31mAttributeError\u001b[0m: 'tuple' object has no attribute 'insert'"
       ]
      }
     ],
     "prompt_number": 7
    },
    {
     "cell_type": "heading",
     "level": 5,
     "metadata": {},
     "source": [
      "6. Cree un diccionario con entradas de diferentes tipos."
     ]
    },
    {
     "cell_type": "code",
     "collapsed": false,
     "input": [
      "b={\"Man\":\"kind\", \"psico\": \"sky\", \"earth\": 9, \"Jeal\":\"oodw\"}"
     ],
     "language": "python",
     "metadata": {},
     "outputs": [],
     "prompt_number": 8
    },
    {
     "cell_type": "heading",
     "level": 5,
     "metadata": {},
     "source": [
      "7. Calcule los primeros 50 n\u00fameros de Fibonacci. Recuerde que los n\u00fameros de Fibonacci $(F)$ se definen as\u00ed: $F_{1}=1$,   $F_{2}=1$ y $F_{n}=F_{n-1}+F_{n-2}$ para $n\\geq3$.\n",
      " "
     ]
    },
    {
     "cell_type": "code",
     "collapsed": false,
     "input": [
      "def inc(n): \n",
      "\ta, b,c = 0, 1, 0\n",
      "\twhile c<n: \n",
      "\t\tprint b, \n",
      "\t\ta, b= b, a+b\n",
      "\t\tc+=1\n",
      "inc(50) \n"
     ],
     "language": "python",
     "metadata": {},
     "outputs": [
      {
       "output_type": "stream",
       "stream": "stdout",
       "text": [
        "1 1 2 3 5 8 13 21 34 55 89 144 233 377 610 987 1597 2584 4181 6765 10946 17711 28657 46368 75025 121393 196418 317811 514229 832040 1346269 2178309 3524578 5702887 9227465 14930352 24157817 39088169 63245986 102334155 165580141 267914296 433494437 701408733 1134903170 1836311903 2971215073 4807526976 7778742049 12586269025\n"
       ]
      }
     ],
     "prompt_number": 40
    },
    {
     "cell_type": "heading",
     "level": 5,
     "metadata": {},
     "source": [
      "7.1 Calcule la raz\u00f3n entre $F_{n}$ y $F_{n-1}$, i.e. $\\frac{F_{n}}{F_{n-1}}$, para todos los Fibonacci hallados. "
     ]
    },
    {
     "cell_type": "code",
     "collapsed": false,
     "input": [
      "import decimal as dc\n",
      "a, b= 0, 1\n",
      "for x in xrange(50):\n",
      "\ta, b= b, a+b\n",
      "\tj= dc.Decimal(b/(a*1.0))\n",
      "\tprint j"
     ],
     "language": "python",
     "metadata": {},
     "outputs": [
      {
       "output_type": "stream",
       "stream": "stdout",
       "text": [
        "1\n",
        "2\n",
        "1.5\n",
        "1.6666666666666667406815349750104360282421112060546875\n",
        "1.600000000000000088817841970012523233890533447265625\n",
        "1.625\n",
        "1.615384615384615418776093065389432013034820556640625\n",
        "1.619047619047619068766152850002981722354888916015625\n",
        "1.617647058823529437887600579415448009967803955078125\n",
        "1.61818181818181816566948327817954123020172119140625\n",
        "1.617977528089887595541540576959960162639617919921875\n",
        "1.6180555555555555802271783250034786760807037353515625\n",
        "1.6180257510729614267575016128830611705780029296875\n",
        "1.6180371352785145599995075826882384717464447021484375\n",
        "1.6180327868852459882731409379630349576473236083984375\n",
        "1.6180344478216819315008478952222503721714019775390625\n",
        "1.6180338134001253092009164902265183627605438232421875\n",
        "1.6180340557275540991355455844313837587833404541015625\n",
        "1.618033963166706445946374515187926590442657470703125\n",
        "1.6180339985218032961000744762714020907878875732421875\n",
        "1.61803398501735795633749148692004382610321044921875\n",
        "1.61803399017559712547154049389064311981201171875\n",
        "1.6180339882053249578319764623302035033702850341796875\n",
        "1.6180339889579020695720146250096149742603302001953125\n",
        "1.6180339886704431240360690935631282627582550048828125\n",
        "1.618033988780242626859262600191868841648101806640625\n",
        "1.6180339887383030639256276117521338164806365966796875\n",
        "1.61803398875432247194794399547390639781951904296875\n",
        "1.6180339887482035887700249077170155942440032958984375\n",
        "1.6180339887505408302814657872659154236316680908203125\n",
        "1.6180339887496482109696671614074148237705230712890625\n",
        "1.618033988749989049438227084465324878692626953125\n",
        "1.618033988749858931299741016118787229061126708984375\n",
        "1.618033988749908669291244223131798207759857177734375\n",
        "1.618033988749889573455220670439302921295166015625\n",
        "1.6180339887498969009271831964724697172641754150390625\n",
        "1.61803398874989401434731917106546461582183837890625\n",
        "1.6180339887498951245703437962220050394535064697265625\n",
        "1.6180339887498946804811339461593888700008392333984375\n",
        "1.6180339887498949025257388711906969547271728515625\n",
        "1.6180339887498949025257388711906969547271728515625\n",
        "1.6180339887498949025257388711906969547271728515625\n",
        "1.6180339887498949025257388711906969547271728515625\n",
        "1.6180339887498949025257388711906969547271728515625\n",
        "1.6180339887498949025257388711906969547271728515625\n",
        "1.6180339887498949025257388711906969547271728515625\n",
        "1.6180339887498949025257388711906969547271728515625\n",
        "1.6180339887498949025257388711906969547271728515625\n",
        "1.6180339887498949025257388711906969547271728515625\n",
        "1.6180339887498949025257388711906969547271728515625\n"
       ]
      }
     ],
     "prompt_number": 30
    },
    {
     "cell_type": "heading",
     "level": 5,
     "metadata": {},
     "source": [
      "8. Abra el archivo `/Introduccion/textoideas.txt`."
     ]
    },
    {
     "cell_type": "code",
     "collapsed": false,
     "input": [
      "file = open('/home/julian/Escritorio/IntroduccionPythonKL/Ejercicios/Introduccion/textoideas.txt', 'r')\n",
      "\n",
      "print file.read()"
     ],
     "language": "python",
     "metadata": {},
     "outputs": [
      {
       "output_type": "stream",
       "stream": "stdout",
       "text": [
        "El supercontinente que se bautiz\u00f3 \u201cPangea\u201d, tras una discusi\u00f3n planteada por Alfred Wegener sobre la deriva continental, abarcaba la mayor parte de tierras emergidas de este peque\u00f1o y p\u00e1lido punto azul del Universo, unos 300 millones de a\u00f1os atr\u00e1s. Para ese entonces la existencia de cualquier ser vivo se limitaba a unos cuantos miles de metros cuadrados de tierra \u201cplana\u201d. La vida era sumamente sencilla, hac\u00eda falta acumular muchos errores de la mol\u00e9cula del ADN para llegar a lo que somos hoy. \u00a1Efectivamente! Somos producto de innumerables errores.  \n",
        "\n",
        "Cien millones de a\u00f1os despu\u00e9s, la tierra comenz\u00f3 a fragmentarse con la paciencia necesaria para crear la belleza del mundo en que habitamos. Los humanos o lo que antecede a los humanos para ese entonces, empezaron a poblar el territorio y a evolucionar con el mismo acerbo gen\u00e9tico pero con costumbres completamente disimiles y la reminiscencia de algo m\u00e1s grande. Sin embargo, nuestra atm\u00f3sfera segu\u00eda siendo del orden de los cientos de kil\u00f3metros. \n",
        "\n",
        "Otra historia se teje millones de a\u00f1os despu\u00e9s, cuando la tierra tom\u00f3, poco a poco, forma esf\u00e9rica y nuestra vecindad aument\u00f3. Para entonces un viaje de Europa a las Colonias Americanas tomaba cerca de 138 d\u00edas, contando con suerte. Partir y dejar los seres queridos era una decisi\u00f3n fuerte, ya que cualquier tipo de comunicaci\u00f3n tomaba por lo menos 276 d\u00edas, en el mejor de lo casos, para recibir respuesta (que para nuestros est\u00e1ndares modernos quiz\u00e1 es muy tarde). \n",
        "\n"
       ]
      }
     ],
     "prompt_number": 43
    },
    {
     "cell_type": "heading",
     "level": 5,
     "metadata": {},
     "source": [
      "8.5 Cree un diccionario (en otro archivo llamado `diccionario.txt`) con las palabras del texto, no deben haber palabras repetidas y los signos de puntuaci\u00f3n no cuentan. Quiz\u00e1 deba tener especial cuidado con las tildes. "
     ]
    },
    {
     "cell_type": "code",
     "collapsed": false,
     "input": [
      "import numpy as np\n",
      "sun=[\"a\", \"e\", \"i\", \"o\", \"u\", \"\\xc3\", \"\\xa9\", \"\\xa1\", \"\\xad\"]\n",
      "sin=[]\n",
      "san=0\n",
      "num_lines=0\n",
      "num_words=0\n",
      "num_chars=0\n",
      "with open(\"/home/julian/Escritorio/IntroduccionPythonKL/Ejercicios/Introduccion/textoideas.txt\", 'r') as f:\n",
      "    for line in f:\n",
      "        words = line.split()\n",
      "\n",
      "words=list(\"\".join(words))\n",
      "for x in words:\n",
      "    if x==\",\":\n",
      "        words.remove(\",\")\n",
      "    elif x==\".\":\n",
      "        words.remove(\".\")\n",
      "    elif x==\")\":\n",
      "        words.remove(\")\")\n",
      "    elif x==\"(\":\n",
      "        words.remove(\"(\")\n",
      "words.pop(-1)\n",
      "words=np.array(words)\n",
      "print words\n",
      "for x in words:\n",
      "    if x==\"\\xc3\" or x==\"\\xa9\" or x==\"\\xa1\" or x==\"\\xad\" or x==\"\\xb1\":\n",
      "        san+=0.5\n",
      "    else:\n",
      "        san+=1\n",
      "fl=open(\"diccionario.txt\", \"w\")\n",
      "fl.write(words)\n",
      "fl.close()\n",
      "fl=open(\"diccionario.txt\", \"r\")\n",
      "fl.read()\n",
      "print \"The Text has\", san, \"Words\""
     ],
     "language": "python",
     "metadata": {},
     "outputs": [
      {
       "output_type": "stream",
       "stream": "stdout",
       "text": [
        "['O' 't' 'r' 'a' 'h' 'i' 's' 't' 'o' 'r' 'i' 'a' 's' 'e' 't' 'e' 'j' 'e'\n",
        " 'm' 'i' 'l' 'l' 'o' 'n' 'e' 's' 'd' 'e' 'a' '\\xc3' '\\xb1' 'o' 's' 'd' 'e'\n",
        " 's' 'p' 'u' '\\xc3' '\\xa9' 's' 'c' 'u' 'a' 'n' 'd' 'o' 'l' 'a' 't' 'i' 'e'\n",
        " 'r' 'r' 'a' 't' 'o' 'm' '\\xc3' '\\xb3' 'p' 'o' 'c' 'o' 'a' 'p' 'o' 'c' 'o'\n",
        " 'f' 'o' 'r' 'm' 'a' 'e' 's' 'f' '\\xc3' '\\xa9' 'r' 'i' 'c' 'a' 'y' 'n' 'u'\n",
        " 'e' 's' 't' 'r' 'a' 'v' 'e' 'c' 'i' 'n' 'd' 'a' 'd' 'a' 'u' 'm' 'e' 'n'\n",
        " 't' '\\xc3' '\\xb3' 'P' 'a' 'r' 'a' 'e' 'n' 't' 'o' 'n' 'c' 'e' 's' 'u' 'n'\n",
        " 'v' 'i' 'a' 'j' 'e' 'd' 'e' 'E' 'u' 'r' 'o' 'p' 'a' 'a' 'l' 'a' 's' 'C'\n",
        " 'o' 'l' 'o' 'n' 'i' 'a' 's' 'A' 'm' 'e' 'r' 'i' 'c' 'a' 'n' 'a' 's' 't'\n",
        " 'o' 'm' 'a' 'b' 'a' 'c' 'e' 'r' 'c' 'a' 'd' 'e' '1' '3' '8' 'd' '\\xc3'\n",
        " '\\xad' 'a' 's' 'c' 'o' 'n' 't' 'a' 'n' 'd' 'o' 'c' 'o' 'n' 's' 'u' 'e' 'r'\n",
        " 't' 'e' 'P' 'a' 'r' 't' 'i' 'r' 'y' 'd' 'e' 'j' 'a' 'r' 'l' 'o' 's' 's'\n",
        " 'e' 'r' 'e' 's' 'q' 'u' 'e' 'r' 'i' 'd' 'o' 's' 'e' 'r' 'a' 'u' 'n' 'a'\n",
        " 'd' 'e' 'c' 'i' 's' 'i' '\\xc3' '\\xb3' 'n' 'f' 'u' 'e' 'r' 't' 'e' 'y' 'a'\n",
        " 'q' 'u' 'e' 'c' 'u' 'a' 'l' 'q' 'u' 'i' 'e' 'r' 't' 'i' 'p' 'o' 'd' 'e'\n",
        " 'c' 'o' 'm' 'u' 'n' 'i' 'c' 'a' 'c' 'i' '\\xc3' '\\xb3' 'n' 't' 'o' 'm' 'a'\n",
        " 'b' 'a' 'p' 'o' 'r' 'l' 'o' 'm' 'e' 'n' 'o' 's' '2' '7' '6' 'd' '\\xc3'\n",
        " '\\xad' 'a' 's' 'e' 'n' 'e' 'l' 'm' 'e' 'j' 'o' 'r' 'd' 'e' 'l' 'o' 'c' 'a'\n",
        " 's' 'o' 's' 'p' 'a' 'r' 'a' 'r' 'e' 'c' 'i' 'b' 'i' 'r' 'r' 'e' 's' 'p'\n",
        " 'u' 'e' 's' 't' 'a' 'q' 'u' 'e' 'p' 'a' 'r' 'a' 'n' 'u' 'e' 's' 't' 'r'\n",
        " 'o' 's' 'e' 's' 't' '\\xc3' '\\xa1' 'n' 'd' 'a' 'r' 'e' 's' 'm' 'o' 'd' 'e'\n",
        " 'r' 'n' 'o' 's' 'q' 'u' 'i' 'z' '\\xc3' '\\xa1' 'e' 's' 'm' 'u' 'y' 't' 'a'\n",
        " 'r' 'd' 'e']\n",
        "The Text has 379.0 Letters\n"
       ]
      }
     ],
     "prompt_number": 43
    },
    {
     "cell_type": "heading",
     "level": 6,
     "metadata": {},
     "source": [
      "8.2 Cuente cu\u00e1ntas vocales hay en total en el texto:"
     ]
    },
    {
     "cell_type": "code",
     "collapsed": false,
     "input": [
      "import numpy as np\n",
      "sun=[\"a\", \"e\", \"i\", \"o\", \"u\", \"\\xc3\", \"\\xa9\", \"\\xa1\", \"\\xad\"]\n",
      "sin=[]\n",
      "num_lines=0\n",
      "num_words=0\n",
      "num_chars=0\n",
      "with open(\"/home/julian/Escritorio/IntroduccionPythonKL/Ejercicios/Introduccion/textoideas.txt\", 'r') as f:\n",
      "    for line in f:\n",
      "        words = line.split()\n",
      "\n",
      "#        num_lines += 1\n",
      "#        num_words += len(words)\n",
      "#        num_chars += len(line)\n",
      "words=list(\"\".join(words))\n",
      "for x in words:\n",
      "    if x==\",\":\n",
      "        words.remove(\",\")\n",
      "    elif x==\".\":\n",
      "        words.remove(\".\")\n",
      "    elif x==\")\":\n",
      "        words.remove(\")\")\n",
      "    elif x==\"(\":\n",
      "        words.remove(\"(\")\n",
      "words.pop(-1)\n",
      "for x in words:\n",
      "    if x=='\\xc3':\n",
      "        if words[words.index(x)+1]=='\\xb1': ##\u00f1 Eraser\n",
      "            fd=words.index(x)\n",
      "            words.pop(fd)\n",
      "            words.pop(fd)\n",
      "            \n",
      "words=np.array(words)\n",
      "\n",
      "for x in sun:\n",
      "    if x==\"\\xc3\" or x==\"\\xa9\" or x==\"\\xa1\" or x==\"\\xad\":\n",
      "        sin.append((np.sum(words==x))*0.5)\n",
      "    else:\n",
      "        sin.append(np.sum(words==x))\n",
      "print \"The Sum of All the Vocals is equal to: \",int(sum(sin))"
     ],
     "language": "python",
     "metadata": {},
     "outputs": [
      {
       "output_type": "stream",
       "stream": "stdout",
       "text": [
        "['O' 't' 'r' 'a' 'h' 'i' 's' 't' 'o' 'r' 'i' 'a' 's' 'e' 't' 'e' 'j' 'e'\n",
        " 'm' 'i' 'l' 'l' 'o' 'n' 'e' 's' 'd' 'e' 'a' 'o' 's' 'd' 'e' 's' 'p' 'u'\n",
        " '\\xc3' '\\xa9' 's' 'c' 'u' 'a' 'n' 'd' 'o' 'l' 'a' 't' 'i' 'e' 'r' 'r' 'a'\n",
        " 't' 'o' 'm' '\\xc3' '\\xb3' 'p' 'o' 'c' 'o' 'a' 'p' 'o' 'c' 'o' 'f' 'o' 'r'\n",
        " 'm' 'a' 'e' 's' 'f' '\\xc3' '\\xa9' 'r' 'i' 'c' 'a' 'y' 'n' 'u' 'e' 's' 't'\n",
        " 'r' 'a' 'v' 'e' 'c' 'i' 'n' 'd' 'a' 'd' 'a' 'u' 'm' 'e' 'n' 't' '\\xc3'\n",
        " '\\xb3' 'P' 'a' 'r' 'a' 'e' 'n' 't' 'o' 'n' 'c' 'e' 's' 'u' 'n' 'v' 'i' 'a'\n",
        " 'j' 'e' 'd' 'e' 'E' 'u' 'r' 'o' 'p' 'a' 'a' 'l' 'a' 's' 'C' 'o' 'l' 'o'\n",
        " 'n' 'i' 'a' 's' 'A' 'm' 'e' 'r' 'i' 'c' 'a' 'n' 'a' 's' 't' 'o' 'm' 'a'\n",
        " 'b' 'a' 'c' 'e' 'r' 'c' 'a' 'd' 'e' '1' '3' '8' 'd' '\\xc3' '\\xad' 'a' 's'\n",
        " 'c' 'o' 'n' 't' 'a' 'n' 'd' 'o' 'c' 'o' 'n' 's' 'u' 'e' 'r' 't' 'e' 'P'\n",
        " 'a' 'r' 't' 'i' 'r' 'y' 'd' 'e' 'j' 'a' 'r' 'l' 'o' 's' 's' 'e' 'r' 'e'\n",
        " 's' 'q' 'u' 'e' 'r' 'i' 'd' 'o' 's' 'e' 'r' 'a' 'u' 'n' 'a' 'd' 'e' 'c'\n",
        " 'i' 's' 'i' '\\xc3' '\\xb3' 'n' 'f' 'u' 'e' 'r' 't' 'e' 'y' 'a' 'q' 'u' 'e'\n",
        " 'c' 'u' 'a' 'l' 'q' 'u' 'i' 'e' 'r' 't' 'i' 'p' 'o' 'd' 'e' 'c' 'o' 'm'\n",
        " 'u' 'n' 'i' 'c' 'a' 'c' 'i' '\\xc3' '\\xb3' 'n' 't' 'o' 'm' 'a' 'b' 'a' 'p'\n",
        " 'o' 'r' 'l' 'o' 'm' 'e' 'n' 'o' 's' '2' '7' '6' 'd' '\\xc3' '\\xad' 'a' 's'\n",
        " 'e' 'n' 'e' 'l' 'm' 'e' 'j' 'o' 'r' 'd' 'e' 'l' 'o' 'c' 'a' 's' 'o' 's'\n",
        " 'p' 'a' 'r' 'a' 'r' 'e' 'c' 'i' 'b' 'i' 'r' 'r' 'e' 's' 'p' 'u' 'e' 's'\n",
        " 't' 'a' 'q' 'u' 'e' 'p' 'a' 'r' 'a' 'n' 'u' 'e' 's' 't' 'r' 'o' 's' 'e'\n",
        " 's' 't' '\\xc3' '\\xa1' 'n' 'd' 'a' 'r' 'e' 's' 'm' 'o' 'd' 'e' 'r' 'n' 'o'\n",
        " 's' 'q' 'u' 'i' 'z' '\\xc3' '\\xa1' 'e' 's' 'm' 'u' 'y' 't' 'a' 'r' 'd' 'e']\n",
        "The Sum of All the Vocals is equal to:  169\n"
       ]
      }
     ],
     "prompt_number": 51
    },
    {
     "cell_type": "code",
     "collapsed": false,
     "input": [],
     "language": "python",
     "metadata": {},
     "outputs": []
    }
   ],
   "metadata": {}
  }
 ]
}