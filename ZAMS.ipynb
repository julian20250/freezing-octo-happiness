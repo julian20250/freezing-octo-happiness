{
 "metadata": {
  "name": "",
  "signature": "sha256:2e9e0fd49135944caee5bf8de185f05b47458ad0b58421b8ff77eba5eabfc662"
 },
 "nbformat": 3,
 "nbformat_minor": 0,
 "worksheets": [
  {
   "cells": [
    {
     "cell_type": "heading",
     "level": 1,
     "metadata": {},
     "source": [
      "Zero Age Main Sequence Star (ZAMS)"
     ]
    },
    {
     "cell_type": "heading",
     "level": 2,
     "metadata": {},
     "source": [
      "En este ejercicio se estudiar\u00e1 la transferencia de energ\u00eda de una estrella de $3 M_{\\odot}$. En la carpeta de ejercicios del curso se encuentran los datos de la estructura estelar calculados en FORTRAN usando el c\u00f3digo original ZAMS.for de Hansen y Kawaler (S.J. Hansen & C.J. Kawaler, \u201cStellar Interiors\u201d, Springer-Verlag, New York, 1994). "
     ]
    },
    {
     "cell_type": "heading",
     "level": 4,
     "metadata": {},
     "source": [
      "En el archivo de texto plano llamado datosZAMS.txt est\u00e1n los resultados del modelo en cinco columnas de datos:\n",
      "1. $1-\\frac{1}{M_{r}}$\n",
      "2. $\\log\\left(r\\right)$\n",
      "3. $\\nabla$\n",
      "4. $\\nabla_{ad}$\n",
      "5. $\\nabla_{rad}$"
     ]
    },
    {
     "cell_type": "heading",
     "level": 3,
     "metadata": {},
     "source": [
      "El ejercicio consiste en realizar lo siguiente:\n"
     ]
    },
    {
     "cell_type": "heading",
     "level": 6,
     "metadata": {},
     "source": [
      "1. Graficar $M_{r}$ vs $r/R$, con $R=1.276e11\\,[cm]$"
     ]
    },
    {
     "cell_type": "code",
     "collapsed": false,
     "input": [],
     "language": "python",
     "metadata": {},
     "outputs": []
    },
    {
     "cell_type": "heading",
     "level": 6,
     "metadata": {},
     "source": [
      "2. Graficar los $\\nabla$ vs $r/R$"
     ]
    },
    {
     "cell_type": "code",
     "collapsed": false,
     "input": [],
     "language": "python",
     "metadata": {},
     "outputs": []
    },
    {
     "cell_type": "heading",
     "level": 6,
     "metadata": {},
     "source": [
      "3. Determine, gr\u00e1ficamente, el punto de intersecci\u00f3n de las curvas y se\u00f1\u00e1lelo sobre el gr\u00e1fico con una flecha. "
     ]
    },
    {
     "cell_type": "code",
     "collapsed": false,
     "input": [],
     "language": "python",
     "metadata": {},
     "outputs": []
    },
    {
     "cell_type": "heading",
     "level": 5,
     "metadata": {},
     "source": [
      "Note el comportamiento an\u00f3malo de los $\\nabla$ cerca a la superficie de la estrella, cuya explicaci\u00f3n no se tiene. El grafico realizado en el punto dos no permite apreciar el comportamiento detalladamente "
     ]
    },
    {
     "cell_type": "heading",
     "level": 6,
     "metadata": {},
     "source": [
      "4. Realice un zoom sobre la zona de inter\u00e9s"
     ]
    },
    {
     "cell_type": "code",
     "collapsed": false,
     "input": [],
     "language": "python",
     "metadata": {},
     "outputs": []
    },
    {
     "cell_type": "heading",
     "level": 5,
     "metadata": {},
     "source": [
      "El resultado esperado lo puede encontrar en los archivos ResultadosZAMS1.eps y ResultadosZAMS2.eps"
     ]
    }
   ],
   "metadata": {}
  }
 ]
}