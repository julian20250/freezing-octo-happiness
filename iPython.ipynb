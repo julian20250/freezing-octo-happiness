{
 "metadata": {
  "name": "",
  "signature": "sha256:82677dcd95af0b0b5f6d1143af279d73bbc32adb534f31b1fc533d954f5a32ff"
 },
 "nbformat": 3,
 "nbformat_minor": 0,
 "worksheets": [
  {
   "cells": [
    {
     "cell_type": "heading",
     "level": 1,
     "metadata": {},
     "source": [
      "Ejercicios iPython"
     ]
    },
    {
     "cell_type": "heading",
     "level": 5,
     "metadata": {},
     "source": [
      "1. Escriba las ecuaciones de Campo de Einstein como Markdown:"
     ]
    },
    {
     "cell_type": "markdown",
     "metadata": {},
     "source": []
    },
    {
     "cell_type": "heading",
     "level": 5,
     "metadata": {},
     "source": [
      "2. Escriba alguna de las ecuaciones presentadas en: http://academic.evergreen.edu/curricular/ins/0708/fall/presentations/Ten_Equations_of_Biology.pdf en Latex como \"Heading 6\":"
     ]
    },
    {
     "cell_type": "heading",
     "level": 6,
     "metadata": {},
     "source": []
    },
    {
     "cell_type": "heading",
     "level": 5,
     "metadata": {},
     "source": [
      "3. Pase al notebook alg\u00fan script "
     ]
    },
    {
     "cell_type": "code",
     "collapsed": false,
     "input": [],
     "language": "python",
     "metadata": {},
     "outputs": []
    }
   ],
   "metadata": {}
  }
 ]
}